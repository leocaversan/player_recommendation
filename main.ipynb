{
 "cells": [
  {
   "cell_type": "code",
   "execution_count": 104,
   "metadata": {},
   "outputs": [],
   "source": [
    "from pyspark import SparkContext\n",
    "from pyspark.sql import SQLContext\n",
    "from pyspark.sql import SparkSession\n",
    "from pyspark.sql.functions import col, when, regexp_replace, translate, concat, concat_ws, split, isnan, udf\n",
    "from pyspark.sql.types import IntegerType,BooleanType,DateType, FloatType\n",
    "\n",
    "from pyspark.ml.feature import VectorAssembler\n",
    "from pyspark.ml.feature import StandardScaler\n",
    "from pyspark.ml.feature import PCA\n",
    "\n",
    "from pyspark.ml import Pipeline\n",
    "from pyspark.ml.clustering import KMeans\n",
    "from pyspark.ml.functions import vector_to_array\n",
    "\n",
    "import plotly.express as px\n",
    "\n",
    "from scipy.spatial.distance import euclidean"
   ]
  },
  {
   "cell_type": "code",
   "execution_count": 67,
   "metadata": {},
   "outputs": [],
   "source": [
    "spark = SparkSession.builder \\\n",
    "    .master('local[*]') \\\n",
    "    .appName('Iniciando com Spark') \\\n",
    "    .config('spark.ui.port', '4050') \\\n",
    "    .getOrCreate()"
   ]
  },
  {
   "cell_type": "code",
   "execution_count": 68,
   "metadata": {},
   "outputs": [],
   "source": [
    "def read_file(\n",
    "    file_location:str,\n",
    "    infer_schema = \"true\",\n",
    "    first_row_is_header = \"true\",\n",
    "    delimiter = \"|\",\n",
    "    file_type = 'csv'\n",
    "    ):\n",
    "    \n",
    "    df_spark = spark.read.format(file_type) \\\n",
    "    .option('inferSchema', infer_schema) \\\n",
    "    .option('header', first_row_is_header) \\\n",
    "    .option('sep', delimiter) \\\n",
    "    .load(file_location)\n",
    "\n",
    "    return df_spark"
   ]
  },
  {
   "cell_type": "code",
   "execution_count": 69,
   "metadata": {},
   "outputs": [],
   "source": [
    "def replace_multiples_characters(column,\n",
    "                                list_replace:list, \n",
    "                                new_characters:str\n",
    "                                ) -> []:\n",
    "    \n",
    "    for character in list_replace:\n",
    "        column = column.str.replace(character, new_characters)\n",
    "    return column"
   ]
  },
  {
   "cell_type": "code",
   "execution_count": 70,
   "metadata": {},
   "outputs": [],
   "source": [
    "def alter_type_column(\n",
    "        df,\n",
    "        column_name:str,\n",
    "        new_type:str,\n",
    "    ):\n",
    "    \n",
    "    df_ajusted = df.withColumn(column_name, df[column_name].cast(new_type))\n",
    "        \n",
    "    return df_ajusted"
   ]
  },
  {
   "cell_type": "code",
   "execution_count": 71,
   "metadata": {},
   "outputs": [],
   "source": [
    "def remove_string_rows(\n",
    "        df,\n",
    "        cols:[],\n",
    "        type_of_col:str\n",
    "):\n",
    "    for i in cols:\n",
    "        df = df.withColumn(\"isNumber\", col(str(i)).cast(type_of_col).isNotNull()).filter(col(\"isNumber\") == True)\n",
    "        df = df.drop(\"isNumber\")\n",
    "\n",
    "    return df"
   ]
  },
  {
   "cell_type": "code",
   "execution_count": 94,
   "metadata": {},
   "outputs": [],
   "source": [
    "def project_clusters(\n",
    "    df_data_sp,\n",
    "    columns_not_object:[],\n",
    "    k_pca=2,\n",
    "    SEED=1224\n",
    "    ):\n",
    "\n",
    "    pca_pipeline = Pipeline(\n",
    "        stages = [\n",
    "            VectorAssembler(inputCols=columns_not_object,outputCol='features'),\n",
    "            StandardScaler(inputCol='features', outputCol='features_scaled'),\n",
    "            PCA(k=k_pca, inputCol='features_scaled', outputCol='pca_features')\n",
    "            ]\n",
    "        )\n",
    "\n",
    "    model_pca_pipeline = pca_pipeline.fit(df_data_sp)\n",
    "    projection = model_pca_pipeline.transform(df_data_sp)\n",
    "\n",
    "    kmeans = KMeans(k=20, featuresCol='pca_features',\\\n",
    "        predictionCol='cluster_pca', seed=SEED)\n",
    "    model_kmeans = kmeans.fit(projection)\n",
    "    projection_kmeans = model_kmeans.transform(projection)\n",
    "\n",
    "    projection_kmeans = projection_kmeans.withColumn('x', vector_to_array('pca_features')[0])\\\n",
    "        .withColumn('y', vector_to_array('pca_features')[1])\n",
    "    \n",
    "    return projection_kmeans\n"
   ]
  },
  {
   "cell_type": "code",
   "execution_count": 107,
   "metadata": {},
   "outputs": [],
   "source": [
    "def created_recommendation (\n",
    "    projection_kmeans,\n",
    "    selected_music = 'Teardrops_Bring Me The Horizon',\n",
    "    columns_of_interesse = ['pca_features', 'cluster_pca',\\\n",
    "                        'artists','name', 'year', 'name_music_artists']\n",
    "    ):\n",
    "    \n",
    "    def calculate_distance(value):\n",
    "        return euclidean(music_components, value)\n",
    "\n",
    "    selected_colections = projection_kmeans.filter(projection_kmeans.name_artists == selected_music).select(columns_of_interesse).take(1)[0]\n",
    "\n",
    "    recommended_musics =  projection_kmeans.where(projection_kmeans.cluster_pca == selected_colections[1])\n",
    "\n",
    "    music_components = recommended_musics.filter(recommended_musics\\\n",
    "        .name_artists == selected_colections[5])\\\n",
    "        .dropDuplicates(['name_artists'])\\\n",
    "        .select('pca_features').collect()[0][0]\n",
    "\n",
    "    udf_calculate_distance = udf(\n",
    "        calculate_distance, \n",
    "        FloatType()\n",
    "        )\n",
    "\n",
    "    recommended_musics_dist = recommended_musics.withColumn(\n",
    "        'Dist', \n",
    "        udf_calculate_distance('pca_features')\n",
    "        )\n",
    "    recommendation = spark.createDataFrame(\n",
    "        recommended_musics_dist.sort('Dist').take(11)\n",
    "        ).select(['name','artists','id', 'Dist'])\n",
    "    recommendation = recommendation.where(recommendation.Dist>0)\n",
    "    \n",
    "    return recommendation\n"
   ]
  },
  {
   "cell_type": "code",
   "execution_count": 103,
   "metadata": {},
   "outputs": [],
   "source": []
  },
  {
   "cell_type": "code",
   "execution_count": null,
   "metadata": {},
   "outputs": [],
   "source": []
  },
  {
   "cell_type": "code",
   "execution_count": 72,
   "metadata": {},
   "outputs": [
    {
     "name": "stderr",
     "output_type": "stream",
     "text": [
      "                                                                                \r"
     ]
    }
   ],
   "source": [
    "df_data = read_file('./data/data.csv', delimiter=',')"
   ]
  },
  {
   "cell_type": "code",
   "execution_count": 73,
   "metadata": {},
   "outputs": [
    {
     "name": "stdout",
     "output_type": "stream",
     "text": [
      "+-------+----+------------+--------------------+------------------+-----------+------+--------+--------------------+----------------+---+--------+--------+----+--------------------+----------+------------+-----------+-----------------+\n",
      "|valence|year|acousticness|             artists|      danceability|duration_ms|energy|explicit|                  id|instrumentalness|key|liveness|loudness|mode|                name|popularity|release_date|speechiness|            tempo|\n",
      "+-------+----+------------+--------------------+------------------+-----------+------+--------+--------------------+----------------+---+--------+--------+----+--------------------+----------+------------+-----------+-----------------+\n",
      "| 0.0594|1921|       0.982|['Sergei Rachmani...|             0.279|     831667| 0.211|       0|4BJqT0PrAfrxzMOxy...|           0.878| 10|   0.665| -20.096|   1|Piano Concerto No...|         4|        1921|     0.0366|           80.954|\n",
      "|  0.963|1921|       0.732|      ['Dennis Day']|0.8190000000000001|     180533| 0.341|       0|7xPhfUan2yNtyFG0c...|             0.0|  7|    0.16| -12.441|   1|Clancy Lowered th...|         5|        1921|      0.415|60.93600000000001|\n",
      "| 0.0394|1921|       0.961|['KHP Kridhamarda...|             0.328|     500062| 0.166|       0|1o6I8BglA6ylDMrIE...|           0.913|  3|   0.101|  -14.85|   1|           Gati Bali|         5|        1921|     0.0339|          110.339|\n",
      "|  0.165|1921|       0.967|    ['Frank Parker']|             0.275|     210000| 0.309|       0|3ftBPsC5vPBKxYSee...|        2.77e-05|  5|   0.381|  -9.316|   1|           Danny Boy|         3|        1921|     0.0354|          100.109|\n",
      "|  0.253|1921|       0.957|      ['Phil Regan']|             0.418|     166693| 0.193|       0|4d6HGyGT8e121BsdK...|        1.68e-06|  3|   0.229| -10.096|   1|When Irish Eyes A...|         2|        1921|      0.038|          101.665|\n",
      "+-------+----+------------+--------------------+------------------+-----------+------+--------+--------------------+----------------+---+--------+--------+----+--------------------+----------+------------+-----------+-----------------+\n",
      "only showing top 5 rows\n",
      "\n"
     ]
    }
   ],
   "source": [
    "df_data.show(5)"
   ]
  },
  {
   "cell_type": "code",
   "execution_count": null,
   "metadata": {},
   "outputs": [],
   "source": []
  },
  {
   "cell_type": "code",
   "execution_count": 97,
   "metadata": {},
   "outputs": [],
   "source": [
    "\n",
    "float_columns = ['valence','acousticness', 'danceability', \\\n",
    "                'instrumentalness', 'liveness', 'loudness',\\\n",
    "                'speechiness', 'tempo']\n",
    "int_columns = ['duration_ms', 'energy', 'key', 'mode', \\\n",
    "                'popularity', 'release_date', 'explicit']\n",
    "\n",
    "for i in float_columns:\n",
    "    df_data = alter_type_column(\n",
    "        df_data,\n",
    "        column_name=i,\n",
    "        new_type='float'\n",
    "    )\n",
    "for i in int_columns:\n",
    "    df_data = alter_type_column(\n",
    "        df_data,\n",
    "        column_name=i,\n",
    "        new_type='int'\n",
    "    )\n"
   ]
  },
  {
   "cell_type": "code",
   "execution_count": 75,
   "metadata": {},
   "outputs": [],
   "source": [
    "df_data = df_data.withColumn(\"artists\", translate(\"artists\", \"[]'\", \"\"))\n",
    "df_data = df_data.withColumn(\"artists\", translate('artists', '\"', ''))\n",
    "df_data = df_data.withColumn(\"artists\", translate(\"artists\", \",\", \"|\"))"
   ]
  },
  {
   "cell_type": "code",
   "execution_count": 76,
   "metadata": {},
   "outputs": [],
   "source": [
    "df_data = df_data.withColumn('name_music_artists', (concat_ws('_',df_data.artists, df_data.name)))"
   ]
  },
  {
   "cell_type": "code",
   "execution_count": 77,
   "metadata": {},
   "outputs": [
    {
     "name": "stdout",
     "output_type": "stream",
     "text": [
      "+-------+----+------------+--------------------+------------+-----------+-------------------+--------+--------------------+----------------+---+--------+--------+----+--------------------+----------+------------+-----------+-------+--------------------+\n",
      "|valence|year|acousticness|             artists|danceability|duration_ms|             energy|explicit|                  id|instrumentalness|key|liveness|loudness|mode|                name|popularity|release_date|speechiness|  tempo|  name_music_artists|\n",
      "+-------+----+------------+--------------------+------------+-----------+-------------------+--------+--------------------+----------------+---+--------+--------+----+--------------------+----------+------------+-----------+-------+--------------------+\n",
      "| 0.0594|1921|       0.982|Sergei Rachmanino...|       0.279|     831667|              0.211|       0|4BJqT0PrAfrxzMOxy...|           0.878| 10|   0.665| -20.096|   1|Piano Concerto No...|         4|        1921|     0.0366| 80.954|Sergei Rachmanino...|\n",
      "|  0.963|1921|       0.732|          Dennis Day|       0.819|     180533|              0.341|       0|7xPhfUan2yNtyFG0c...|             0.0|  7|    0.16| -12.441|   1|Clancy Lowered th...|         5|        1921|      0.415| 60.936|Dennis Day_Clancy...|\n",
      "| 0.0394|1921|       0.961|KHP Kridhamardawa...|       0.328|     500062|              0.166|       0|1o6I8BglA6ylDMrIE...|           0.913|  3|   0.101|  -14.85|   1|           Gati Bali|         5|        1921|     0.0339|110.339|KHP Kridhamardawa...|\n",
      "|  0.165|1921|       0.967|        Frank Parker|       0.275|     210000|              0.309|       0|3ftBPsC5vPBKxYSee...|         2.77E-5|  5|   0.381|  -9.316|   1|           Danny Boy|         3|        1921|     0.0354|100.109|Frank Parker_Dann...|\n",
      "|  0.253|1921|       0.957|          Phil Regan|       0.418|     166693|              0.193|       0|4d6HGyGT8e121BsdK...|         1.68E-6|  3|   0.229| -10.096|   1|When Irish Eyes A...|         2|        1921|      0.038|101.665|Phil Regan_When I...|\n",
      "|  0.196|1921|       0.579|KHP Kridhamardawa...|       0.697|     395076|0.34600000000000003|       0|4pyw9DVHGStUre4J6...|           0.168|  2|    0.13| -12.506|   1|        Gati Mardika|         6|        1921|       0.07|119.824|KHP Kridhamardawa...|\n",
      "|  0.406|1921|       0.996|      John McCormack|       0.518|     159507|              0.203|       0|5uNZnElqOS3W4fRmR...|             0.0|  0|   0.115| -10.589|   1|The Wearing of th...|         4|        1921|     0.0615| 66.221|John McCormack_Th...|\n",
      "| 0.0731|1921|       0.993| Sergei Rachmaninoff|       0.389|     218773|0.08800000000000001|       0|02GDntOXexBFUvSga...|           0.527|  1|   0.363| -21.091|   0|Morceaux de fanta...|         2|        1921|     0.0456| 92.867|Sergei Rachmanino...|\n",
      "|  0.721|1921|       0.996|     Ignacio Corsini|       0.485|     161520|               0.13|       0|05xDjWH9ub67nJJk8...|           0.151|  5|   0.104| -21.508|   0|La Mañanita - Rem...|         0|  1921-03-20|     0.0483| 64.678|Ignacio Corsini_L...|\n",
      "|  0.771|1921|       0.982|             Fortugé|       0.684|     196560|              0.257|       0|08zfJvRLp7pjAb94M...|             0.0|  8|   0.504| -16.415|   1|   Il Etait Syndiqué|         0|        1921|      0.399|109.378|Fortugé_Il Etait ...|\n",
      "|  0.826|1921|       0.995|   Maurice Chevalier|       0.463|     147133|               0.26|       0|0BMkRpQtDoKjcgzCp...|             0.0|  9|   0.258| -16.894|   1|Dans La Vie Faut ...|         0|        1921|     0.0557| 85.146|Maurice Chevalier...|\n",
      "|  0.578|1921|       0.994|     Ignacio Corsini|       0.378|     155413|              0.115|       0|0F30WM8qRpO8kdole...|           0.906| 10|    0.11| -27.039|   0|Por Que Me Dejast...|         0|  1921-03-20|     0.0414|  70.37|Ignacio Corsini_P...|\n",
      "|  0.493|1921|        0.99|             Georgel|       0.315|     190800|              0.363|       0|0H3k2CvJvHULnWChl...|             0.0|  5|   0.292| -12.562|   0|           La Vipère|         0|        1921|     0.0546|174.532|   Georgel_La Vipère|\n",
      "|  0.212|1921|       0.912|     Mehmet Kemiksiz|       0.415|     184973|               0.42|       0|0LcXzABeA84Egudqp...|            0.89|  8|   0.108| -10.766|   0|          Ud Taksimi|         0|        1921|      0.114| 70.758|Mehmet Kemiksiz_U...|\n",
      "|  0.493|1921|      0.0175|          Zay Gatsby|       0.527|     205072|              0.691|       1|0MJZ4hh60zwsYleWW...|           0.384|  7|   0.358|  -7.298|   1|      Power Is Power|         0|  1921-03-27|     0.0326|159.935|Zay Gatsby_Power ...|\n",
      "|  0.282|1921|       0.989|Sergei Rachmanino...|       0.384|     221013|              0.171|       0|0NFeJgmTAV1kDfzSQ...|            0.82|  7|   0.116| -20.476|   0|10 Préludes, Op. ...|         4|        1921|     0.0319|107.698|Sergei Rachmanino...|\n",
      "|  0.218|1921|       0.957|          Phil Regan|       0.259|     186467|              0.212|       0|0Nk5f07H3JaEunGrY...|         2.22E-4|  2|   0.236|   -13.3|   1|   Come Back To Erin|         1|        1921|     0.0358| 85.726|Phil Regan_Come B...|\n",
      "|  0.664|1921|       0.996|Hector Berlioz| A...|       0.541|     250747|0.28300000000000003|       0|0POO8XaUgW5Qjbv9s...|           0.898|  9|   0.393| -14.808|   1|       Rákóczy March|         0|        1921|     0.0477|108.986|Hector Berlioz| A...|\n",
      "| 0.0778|1921|       0.148|             THE GUY|       0.604|     204957|              0.418|       1|0QQmUf4aPFaN9U2yR...|          0.0382|  4|   0.102| -11.566|   0|         When We Die|         0|  1921-09-11|     0.0417| 80.073| THE GUY_When We Die|\n",
      "|  0.527|1921|       0.971|   Christopher Lynch|        0.54|     122000|             0.0848|       0|0QU5xT6Mik4vpyt1I...|         0.00196|  5|  0.0887| -16.055|   0|  A Ballynure Ballad|         0|        1921|      0.075|100.296|Christopher Lynch...|\n",
      "+-------+----+------------+--------------------+------------+-----------+-------------------+--------+--------------------+----------------+---+--------+--------+----+--------------------+----------+------------+-----------+-------+--------------------+\n",
      "only showing top 20 rows\n",
      "\n"
     ]
    }
   ],
   "source": [
    "df_data.show()"
   ]
  },
  {
   "cell_type": "code",
   "execution_count": 78,
   "metadata": {},
   "outputs": [],
   "source": [
    "# df_data = df_data.withColumn('year', split(df_data['release_date'], '-').getItem(0))"
   ]
  },
  {
   "cell_type": "code",
   "execution_count": 79,
   "metadata": {},
   "outputs": [],
   "source": [
    "df_columns = df_data.columns\n",
    "df_data = df_data[df_columns]\n",
    "\n",
    "df_data = df_data.na.drop(subset=['release_date'])\n",
    "# df_data = df_data.dropDuplicates(subset=['release_date'])\n",
    "\n",
    "\n",
    "columns_not_object = df_data.columns\n",
    "columns_not_object.remove('artists')\n",
    "columns_not_object.remove('id')\n",
    "columns_not_object.remove('name')\n",
    "columns_not_object.remove('name_music_artists')\n",
    "columns_not_object.remove('explicit')\n"
   ]
  },
  {
   "cell_type": "code",
   "execution_count": 80,
   "metadata": {},
   "outputs": [],
   "source": [
    "# df_data.summary().show()"
   ]
  },
  {
   "cell_type": "code",
   "execution_count": 81,
   "metadata": {},
   "outputs": [
    {
     "name": "stdout",
     "output_type": "stream",
     "text": [
      "+-------+----+------------+--------------------+------------+-----------+-------------------+--------+--------------------+----------------+---+--------+--------+----+--------------------+----------+------------+-----------+-------+--------------------+\n",
      "|valence|year|acousticness|             artists|danceability|duration_ms|             energy|explicit|                  id|instrumentalness|key|liveness|loudness|mode|                name|popularity|release_date|speechiness|  tempo|  name_music_artists|\n",
      "+-------+----+------------+--------------------+------------+-----------+-------------------+--------+--------------------+----------------+---+--------+--------+----+--------------------+----------+------------+-----------+-------+--------------------+\n",
      "| 0.0594|1921|       0.982|Sergei Rachmanino...|       0.279|     831667|              0.211|       0|4BJqT0PrAfrxzMOxy...|           0.878| 10|   0.665| -20.096|   1|Piano Concerto No...|         4|        1921|     0.0366| 80.954|Sergei Rachmanino...|\n",
      "|  0.963|1921|       0.732|          Dennis Day|       0.819|     180533|              0.341|       0|7xPhfUan2yNtyFG0c...|             0.0|  7|    0.16| -12.441|   1|Clancy Lowered th...|         5|        1921|      0.415| 60.936|Dennis Day_Clancy...|\n",
      "| 0.0394|1921|       0.961|KHP Kridhamardawa...|       0.328|     500062|              0.166|       0|1o6I8BglA6ylDMrIE...|           0.913|  3|   0.101|  -14.85|   1|           Gati Bali|         5|        1921|     0.0339|110.339|KHP Kridhamardawa...|\n",
      "|  0.165|1921|       0.967|        Frank Parker|       0.275|     210000|              0.309|       0|3ftBPsC5vPBKxYSee...|         2.77E-5|  5|   0.381|  -9.316|   1|           Danny Boy|         3|        1921|     0.0354|100.109|Frank Parker_Dann...|\n",
      "|  0.253|1921|       0.957|          Phil Regan|       0.418|     166693|              0.193|       0|4d6HGyGT8e121BsdK...|         1.68E-6|  3|   0.229| -10.096|   1|When Irish Eyes A...|         2|        1921|      0.038|101.665|Phil Regan_When I...|\n",
      "|  0.196|1921|       0.579|KHP Kridhamardawa...|       0.697|     395076|0.34600000000000003|       0|4pyw9DVHGStUre4J6...|           0.168|  2|    0.13| -12.506|   1|        Gati Mardika|         6|        1921|       0.07|119.824|KHP Kridhamardawa...|\n",
      "|  0.406|1921|       0.996|      John McCormack|       0.518|     159507|              0.203|       0|5uNZnElqOS3W4fRmR...|             0.0|  0|   0.115| -10.589|   1|The Wearing of th...|         4|        1921|     0.0615| 66.221|John McCormack_Th...|\n",
      "| 0.0731|1921|       0.993| Sergei Rachmaninoff|       0.389|     218773|0.08800000000000001|       0|02GDntOXexBFUvSga...|           0.527|  1|   0.363| -21.091|   0|Morceaux de fanta...|         2|        1921|     0.0456| 92.867|Sergei Rachmanino...|\n",
      "|  0.721|1921|       0.996|     Ignacio Corsini|       0.485|     161520|               0.13|       0|05xDjWH9ub67nJJk8...|           0.151|  5|   0.104| -21.508|   0|La Mañanita - Rem...|         0|  1921-03-20|     0.0483| 64.678|Ignacio Corsini_L...|\n",
      "|  0.771|1921|       0.982|             Fortugé|       0.684|     196560|              0.257|       0|08zfJvRLp7pjAb94M...|             0.0|  8|   0.504| -16.415|   1|   Il Etait Syndiqué|         0|        1921|      0.399|109.378|Fortugé_Il Etait ...|\n",
      "|  0.826|1921|       0.995|   Maurice Chevalier|       0.463|     147133|               0.26|       0|0BMkRpQtDoKjcgzCp...|             0.0|  9|   0.258| -16.894|   1|Dans La Vie Faut ...|         0|        1921|     0.0557| 85.146|Maurice Chevalier...|\n",
      "|  0.578|1921|       0.994|     Ignacio Corsini|       0.378|     155413|              0.115|       0|0F30WM8qRpO8kdole...|           0.906| 10|    0.11| -27.039|   0|Por Que Me Dejast...|         0|  1921-03-20|     0.0414|  70.37|Ignacio Corsini_P...|\n",
      "|  0.493|1921|        0.99|             Georgel|       0.315|     190800|              0.363|       0|0H3k2CvJvHULnWChl...|             0.0|  5|   0.292| -12.562|   0|           La Vipère|         0|        1921|     0.0546|174.532|   Georgel_La Vipère|\n",
      "|  0.212|1921|       0.912|     Mehmet Kemiksiz|       0.415|     184973|               0.42|       0|0LcXzABeA84Egudqp...|            0.89|  8|   0.108| -10.766|   0|          Ud Taksimi|         0|        1921|      0.114| 70.758|Mehmet Kemiksiz_U...|\n",
      "|  0.493|1921|      0.0175|          Zay Gatsby|       0.527|     205072|              0.691|       1|0MJZ4hh60zwsYleWW...|           0.384|  7|   0.358|  -7.298|   1|      Power Is Power|         0|  1921-03-27|     0.0326|159.935|Zay Gatsby_Power ...|\n",
      "|  0.282|1921|       0.989|Sergei Rachmanino...|       0.384|     221013|              0.171|       0|0NFeJgmTAV1kDfzSQ...|            0.82|  7|   0.116| -20.476|   0|10 Préludes, Op. ...|         4|        1921|     0.0319|107.698|Sergei Rachmanino...|\n",
      "|  0.218|1921|       0.957|          Phil Regan|       0.259|     186467|              0.212|       0|0Nk5f07H3JaEunGrY...|         2.22E-4|  2|   0.236|   -13.3|   1|   Come Back To Erin|         1|        1921|     0.0358| 85.726|Phil Regan_Come B...|\n",
      "|  0.664|1921|       0.996|Hector Berlioz| A...|       0.541|     250747|0.28300000000000003|       0|0POO8XaUgW5Qjbv9s...|           0.898|  9|   0.393| -14.808|   1|       Rákóczy March|         0|        1921|     0.0477|108.986|Hector Berlioz| A...|\n",
      "| 0.0778|1921|       0.148|             THE GUY|       0.604|     204957|              0.418|       1|0QQmUf4aPFaN9U2yR...|          0.0382|  4|   0.102| -11.566|   0|         When We Die|         0|  1921-09-11|     0.0417| 80.073| THE GUY_When We Die|\n",
      "|  0.527|1921|       0.971|   Christopher Lynch|        0.54|     122000|             0.0848|       0|0QU5xT6Mik4vpyt1I...|         0.00196|  5|  0.0887| -16.055|   0|  A Ballynure Ballad|         0|        1921|      0.075|100.296|Christopher Lynch...|\n",
      "+-------+----+------------+--------------------+------------+-----------+-------------------+--------+--------------------+----------------+---+--------+--------+----+--------------------+----------+------------+-----------+-------+--------------------+\n",
      "only showing top 20 rows\n",
      "\n"
     ]
    }
   ],
   "source": [
    "df_data.show()"
   ]
  },
  {
   "cell_type": "code",
   "execution_count": 82,
   "metadata": {},
   "outputs": [
    {
     "name": "stderr",
     "output_type": "stream",
     "text": [
      "                                                                                \r"
     ]
    }
   ],
   "source": [
    "import numpy as np\n",
    "\n",
    "name_list = df_data.select('release_date').rdd.flatMap(lambda x: x).collect()\n",
    "new = np.unique(name_list)\n",
    "# df_data['release_date'].colect().unique().show()\n",
    "\n"
   ]
  },
  {
   "cell_type": "markdown",
   "metadata": {},
   "source": []
  },
  {
   "cell_type": "code",
   "execution_count": 83,
   "metadata": {},
   "outputs": [
    {
     "data": {
      "text/plain": [
       "'1921'"
      ]
     },
     "execution_count": 83,
     "metadata": {},
     "output_type": "execute_result"
    }
   ],
   "source": [
    "year = [x for x in np.unique(name_list) if x is int]\n",
    "name_list[1]"
   ]
  },
  {
   "cell_type": "code",
   "execution_count": 96,
   "metadata": {},
   "outputs": [],
   "source": [
    "df_data_1 = df_data.filter(\n",
    "    (df_data.speechiness<1) \n",
    "    & \n",
    "    (df_data.energy < 1)\n",
    "    &\n",
    "    (df_data.explicit < 1)\n",
    "    )\n",
    "\n"
   ]
  },
  {
   "cell_type": "code",
   "execution_count": 85,
   "metadata": {},
   "outputs": [
    {
     "name": "stderr",
     "output_type": "stream",
     "text": [
      "[Stage 77:==================================================>       (7 + 1) / 8]\r"
     ]
    },
    {
     "name": "stdout",
     "output_type": "stream",
     "text": [
      "+-------+------------------+------------------+-------------------+-----------------+-------------------+------------------+-------------------+-------------------+--------------------+------------------+------------------+-------------------+-------------------+-------------------+--------------------+------------------+------------------+-------------------+------------------+--------------------+\n",
      "|summary|           valence|              year|       acousticness|          artists|       danceability|       duration_ms|             energy|           explicit|                  id|  instrumentalness|               key|           liveness|           loudness|               mode|                name|        popularity|      release_date|        speechiness|             tempo|  name_music_artists|\n",
      "+-------+------------------+------------------+-------------------+-----------------+-------------------+------------------+-------------------+-------------------+--------------------+------------------+------------------+-------------------+-------------------+-------------------+--------------------+------------------+------------------+-------------------+------------------+--------------------+\n",
      "|  count|             50018|             50018|              50018|            50018|              50018|             50018|              50018|              50018|               50018|             50018|             50018|              50018|              50018|              50018|               50018|             50018|             50018|              50018|             50018|               50018|\n",
      "|   mean| 0.503290710591016|1962.9550561797753|  0.602015762271954|541.1538461538462|  0.511366701998486|232423.72953736654|0.39305720302690983|0.06897516893918189|                null|0.2167813875054004| 5.163821024431205|0.20843303218204853|-13.799477124944573| 0.7224599144308049|            Infinity|21.447658842816587|1962.9550561797753| 0.1365460034611692| 114.2903391548528|                null|\n",
      "| stddev|0.2693177790150297|22.069954488916355|0.36183109601765673|525.4849896609554|0.17885514822382156|141701.85607303065|0.26268422900894756| 0.2534144410335808|                null|0.3490171388866672|3.5194121215828766| 0.1724211924263582|  6.002729620386878|0.44778967757213095|                 NaN| 18.97952248724671|22.069954488916355|0.24973693441819897|30.799844565318345|                null|\n",
      "|    min|               0.0|              1921|                0.0|       (Hed) P.E.|                0.0|            100000|                0.0|                  0|000mGrJNc2GAgQdME...|               0.0|                 0|                0.0|              -60.0|                  0|\"\"\"Eungenio\"\" Sal...|                 0|              1921|                0.0|               0.0|(Hed) P.E._Bartender|\n",
      "|    25%|             0.278|              1946|              0.243|            112.0|              0.379|          156000.0|              0.179|                0.0|                null|           1.01E-6|               2.0|                0.1|            -17.576|                0.0|               409.0|               1.0|            1946.0|             0.0354|            90.429|                null|\n",
      "|    50%|             0.514|              1961|               0.73|            112.0|              0.523|          198713.0|              0.331|                0.0|                null|           6.24E-4|               5.0|               0.14|            -13.116|                1.0|              1959.0|              21.0|            1961.0|             0.0442|           111.019|                null|\n",
      "|    75%|             0.723|              1980|              0.944|            999.0|              0.653|          268840.0| 0.5820000000000001|                0.0|                null|             0.381|               8.0|              0.266|             -9.379|                1.0|              1985.0|              36.0|            1980.0|             0.0717|           133.033|                null|\n",
      "|    max|               1.0|              2017|              0.996|           陳蘭麗|              0.977|             99996|                1.0|                  1|7zzbfi8fvHe6hm342...|             0.996|                 9|              0.999|              0.674|                  1|              黄昏れ|                 9|              2017|               0.97|           243.372|     陳蘭麗_你懂不懂|\n",
      "+-------+------------------+------------------+-------------------+-----------------+-------------------+------------------+-------------------+-------------------+--------------------+------------------+------------------+-------------------+-------------------+-------------------+--------------------+------------------+------------------+-------------------+------------------+--------------------+\n",
      "\n"
     ]
    },
    {
     "name": "stderr",
     "output_type": "stream",
     "text": [
      "                                                                                \r"
     ]
    }
   ],
   "source": [
    "\n",
    "df_data = remove_string_rows(\n",
    "        df=df_data,\n",
    "        cols=float_columns,\n",
    "        type_of_col= \"float\"\n",
    ")\n",
    "df_data = remove_string_rows(\n",
    "        df=df_data,\n",
    "        cols=int_columns,\n",
    "        type_of_col= \"int\"\n",
    ")\n",
    "\n",
    "df_data.summary().show()"
   ]
  },
  {
   "cell_type": "code",
   "execution_count": 99,
   "metadata": {},
   "outputs": [
    {
     "name": "stderr",
     "output_type": "stream",
     "text": [
      "                                                                                \r"
     ]
    },
    {
     "name": "stdout",
     "output_type": "stream",
     "text": [
      "+-------+----+------------+--------------------+------------+-----------+------+--------+--------------------+----------------+---+--------+--------+----+--------------------+----------+------------+-----------+-------+--------------------+--------------------+--------------------+--------------------+-----------+------------------+-------------------+\n",
      "|valence|year|acousticness|             artists|danceability|duration_ms|energy|explicit|                  id|instrumentalness|key|liveness|loudness|mode|                name|popularity|release_date|speechiness|  tempo|  name_music_artists|            features|     features_scaled|        pca_features|cluster_pca|                 x|                  y|\n",
      "+-------+----+------------+--------------------+------------+-----------+------+--------+--------------------+----------------+---+--------+--------+----+--------------------+----------+------------+-----------+-------+--------------------+--------------------+--------------------+--------------------+-----------+------------------+-------------------+\n",
      "| 0.0594|1921|       0.982|Sergei Rachmanino...|       0.279|     831667|     0|       0|4BJqT0PrAfrxzMOxy...|           0.878| 10|   0.665| -20.096|   1|Piano Concerto No...|         4|        1921|     0.0366| 80.954|Sergei Rachmanino...|[0.05939999967813...|[0.22055729070459...|[-74.769892983947...|          6| -74.7698929839479| -42.36882882833043|\n",
      "|  0.963|1921|       0.732|          Dennis Day|       0.819|     180533|     0|       0|7xPhfUan2yNtyFG0c...|             0.0|  7|    0.16| -12.441|   1|Clancy Lowered th...|         5|        1921|      0.415| 60.936|Dennis Day_Clancy...|[0.96299999952316...|[3.57570154872479...|[-77.083633578539...|          1|-77.08363357853983| -36.79549169141135|\n",
      "| 0.0394|1921|       0.961|KHP Kridhamardawa...|       0.328|     500062|     0|       0|1o6I8BglA6ylDMrIE...|           0.913|  3|   0.101|  -14.85|   1|           Gati Bali|         5|        1921|     0.0339|110.339|KHP Kridhamardawa...|[0.03940000012516...|[0.14629557792013...|[-75.313921427739...|          6|-75.31392142773964|-41.870668899950964|\n",
      "|  0.165|1921|       0.967|        Frank Parker|       0.275|     210000|     0|       0|3ftBPsC5vPBKxYSee...|         2.77E-5|  5|   0.381|  -9.316|   1|           Danny Boy|         3|        1921|     0.0354|100.109|Frank Parker_Dann...|[0.16500000655651...|[0.61265916851075...|[-76.176343997138...|          4|-76.17634399713823|  -40.0456612140401|\n",
      "|  0.253|1921|       0.957|          Phil Regan|       0.418|     166693|     0|       0|4d6HGyGT8e121BsdK...|         1.68E-6|  3|   0.229| -10.096|   1|When Irish Eyes A...|         2|        1921|      0.038|101.665|Phil Regan_When I...|[0.25299999117851...|[0.93941065496605...|[-76.337042863283...|          4|-76.33704286328356|-39.534434221871656|\n",
      "+-------+----+------------+--------------------+------------+-----------+------+--------+--------------------+----------------+---+--------+--------+----+--------------------+----------+------------+-----------+-------+--------------------+--------------------+--------------------+--------------------+-----------+------------------+-------------------+\n",
      "only showing top 5 rows\n",
      "\n"
     ]
    }
   ],
   "source": [
    "projection_kmeans = project_clusters(\n",
    "    df_data_sp=df_data,\n",
    "    columns_not_object=columns_not_object\n",
    ")\n",
    "projection_kmeans.show(5)"
   ]
  },
  {
   "cell_type": "code",
   "execution_count": 108,
   "metadata": {},
   "outputs": [
    {
     "ename": "AttributeError",
     "evalue": "'DataFrame' object has no attribute 'name_artists'",
     "output_type": "error",
     "traceback": [
      "\u001b[0;31m---------------------------------------------------------------------------\u001b[0m",
      "\u001b[0;31mAttributeError\u001b[0m                            Traceback (most recent call last)",
      "\u001b[1;32m/Users/leoleo/Documents/python/player_recommendation/main.ipynb Célula 28\u001b[0m line \u001b[0;36m1\n\u001b[0;32m----> <a href='vscode-notebook-cell:/Users/leoleo/Documents/python/player_recommendation/main.ipynb#X31sZmlsZQ%3D%3D?line=0'>1</a>\u001b[0m recommendation \u001b[39m=\u001b[39m created_recommendation(\n\u001b[1;32m      <a href='vscode-notebook-cell:/Users/leoleo/Documents/python/player_recommendation/main.ipynb#X31sZmlsZQ%3D%3D?line=1'>2</a>\u001b[0m     projection_kmeans\n\u001b[1;32m      <a href='vscode-notebook-cell:/Users/leoleo/Documents/python/player_recommendation/main.ipynb#X31sZmlsZQ%3D%3D?line=2'>3</a>\u001b[0m     )\n\u001b[1;32m      <a href='vscode-notebook-cell:/Users/leoleo/Documents/python/player_recommendation/main.ipynb#X31sZmlsZQ%3D%3D?line=3'>4</a>\u001b[0m recommendation\u001b[39m.\u001b[39mshow()\n",
      "\u001b[1;32m/Users/leoleo/Documents/python/player_recommendation/main.ipynb Célula 28\u001b[0m line \u001b[0;36m1\n\u001b[1;32m      <a href='vscode-notebook-cell:/Users/leoleo/Documents/python/player_recommendation/main.ipynb#X31sZmlsZQ%3D%3D?line=7'>8</a>\u001b[0m \u001b[39mdef\u001b[39;00m \u001b[39mcalculate_distance\u001b[39m(value):\n\u001b[1;32m      <a href='vscode-notebook-cell:/Users/leoleo/Documents/python/player_recommendation/main.ipynb#X31sZmlsZQ%3D%3D?line=8'>9</a>\u001b[0m     \u001b[39mreturn\u001b[39;00m euclidean(music_components, value)\n\u001b[0;32m---> <a href='vscode-notebook-cell:/Users/leoleo/Documents/python/player_recommendation/main.ipynb#X31sZmlsZQ%3D%3D?line=10'>11</a>\u001b[0m selected_colections \u001b[39m=\u001b[39m projection_kmeans\u001b[39m.\u001b[39mfilter(projection_kmeans\u001b[39m.\u001b[39;49mname_artists \u001b[39m==\u001b[39m selected_music)\u001b[39m.\u001b[39mselect(columns_of_interesse)\u001b[39m.\u001b[39mtake(\u001b[39m1\u001b[39m)[\u001b[39m0\u001b[39m]\n\u001b[1;32m     <a href='vscode-notebook-cell:/Users/leoleo/Documents/python/player_recommendation/main.ipynb#X31sZmlsZQ%3D%3D?line=12'>13</a>\u001b[0m recommended_musics \u001b[39m=\u001b[39m  projection_kmeans\u001b[39m.\u001b[39mwhere(projection_kmeans\u001b[39m.\u001b[39mcluster_pca \u001b[39m==\u001b[39m selected_colections[\u001b[39m1\u001b[39m])\n\u001b[1;32m     <a href='vscode-notebook-cell:/Users/leoleo/Documents/python/player_recommendation/main.ipynb#X31sZmlsZQ%3D%3D?line=14'>15</a>\u001b[0m music_components \u001b[39m=\u001b[39m recommended_musics\u001b[39m.\u001b[39mfilter(recommended_musics\\\n\u001b[1;32m     <a href='vscode-notebook-cell:/Users/leoleo/Documents/python/player_recommendation/main.ipynb#X31sZmlsZQ%3D%3D?line=15'>16</a>\u001b[0m     \u001b[39m.\u001b[39mname_artists \u001b[39m==\u001b[39m selected_colections[\u001b[39m5\u001b[39m])\\\n\u001b[1;32m     <a href='vscode-notebook-cell:/Users/leoleo/Documents/python/player_recommendation/main.ipynb#X31sZmlsZQ%3D%3D?line=16'>17</a>\u001b[0m     \u001b[39m.\u001b[39mdropDuplicates([\u001b[39m'\u001b[39m\u001b[39mname_artists\u001b[39m\u001b[39m'\u001b[39m])\\\n\u001b[1;32m     <a href='vscode-notebook-cell:/Users/leoleo/Documents/python/player_recommendation/main.ipynb#X31sZmlsZQ%3D%3D?line=17'>18</a>\u001b[0m     \u001b[39m.\u001b[39mselect(\u001b[39m'\u001b[39m\u001b[39mpca_features\u001b[39m\u001b[39m'\u001b[39m)\u001b[39m.\u001b[39mcollect()[\u001b[39m0\u001b[39m][\u001b[39m0\u001b[39m]\n",
      "File \u001b[0;32m~/Documents/python/player_recommendation/.venv/lib/python3.8/site-packages/pyspark/sql/dataframe.py:1988\u001b[0m, in \u001b[0;36mDataFrame.__getattr__\u001b[0;34m(self, name)\u001b[0m\n\u001b[1;32m   1978\u001b[0m \u001b[39m\u001b[39m\u001b[39m\"\"\"Returns the :class:`Column` denoted by ``name``.\u001b[39;00m\n\u001b[1;32m   1979\u001b[0m \n\u001b[1;32m   1980\u001b[0m \u001b[39m.. versionadded:: 1.3.0\u001b[39;00m\n\u001b[0;32m   (...)\u001b[0m\n\u001b[1;32m   1985\u001b[0m \u001b[39m[Row(age=2), Row(age=5)]\u001b[39;00m\n\u001b[1;32m   1986\u001b[0m \u001b[39m\"\"\"\u001b[39;00m\n\u001b[1;32m   1987\u001b[0m \u001b[39mif\u001b[39;00m name \u001b[39mnot\u001b[39;00m \u001b[39min\u001b[39;00m \u001b[39mself\u001b[39m\u001b[39m.\u001b[39mcolumns:\n\u001b[0;32m-> 1988\u001b[0m     \u001b[39mraise\u001b[39;00m \u001b[39mAttributeError\u001b[39;00m(\n\u001b[1;32m   1989\u001b[0m         \u001b[39m\"\u001b[39m\u001b[39m'\u001b[39m\u001b[39m%s\u001b[39;00m\u001b[39m'\u001b[39m\u001b[39m object has no attribute \u001b[39m\u001b[39m'\u001b[39m\u001b[39m%s\u001b[39;00m\u001b[39m'\u001b[39m\u001b[39m\"\u001b[39m \u001b[39m%\u001b[39m (\u001b[39mself\u001b[39m\u001b[39m.\u001b[39m\u001b[39m__class__\u001b[39m\u001b[39m.\u001b[39m\u001b[39m__name__\u001b[39m, name)\n\u001b[1;32m   1990\u001b[0m     )\n\u001b[1;32m   1991\u001b[0m jc \u001b[39m=\u001b[39m \u001b[39mself\u001b[39m\u001b[39m.\u001b[39m_jdf\u001b[39m.\u001b[39mapply(name)\n\u001b[1;32m   1992\u001b[0m \u001b[39mreturn\u001b[39;00m Column(jc)\n",
      "\u001b[0;31mAttributeError\u001b[0m: 'DataFrame' object has no attribute 'name_artists'"
     ]
    }
   ],
   "source": [
    "recommendation = created_recommendation(\n",
    "    projection_kmeans\n",
    "    )\n",
    "recommendation.show()"
   ]
  },
  {
   "cell_type": "code",
   "execution_count": 88,
   "metadata": {},
   "outputs": [
    {
     "name": "stdout",
     "output_type": "stream",
     "text": [
      "+-------+----+------------+--------------------+------------+-----------+-------------------+--------+--------------------+----------------+---+--------+--------+----+--------------------+----------+------------+-----------+-------+--------------------+\n",
      "|valence|year|acousticness|             artists|danceability|duration_ms|             energy|explicit|                  id|instrumentalness|key|liveness|loudness|mode|                name|popularity|release_date|speechiness|  tempo|  name_music_artists|\n",
      "+-------+----+------------+--------------------+------------+-----------+-------------------+--------+--------------------+----------------+---+--------+--------+----+--------------------+----------+------------+-----------+-------+--------------------+\n",
      "| 0.0594|1921|       0.982|Sergei Rachmanino...|       0.279|     831667|              0.211|       0|4BJqT0PrAfrxzMOxy...|           0.878| 10|   0.665| -20.096|   1|Piano Concerto No...|         4|        1921|     0.0366| 80.954|Sergei Rachmanino...|\n",
      "|  0.963|1921|       0.732|          Dennis Day|       0.819|     180533|              0.341|       0|7xPhfUan2yNtyFG0c...|             0.0|  7|    0.16| -12.441|   1|Clancy Lowered th...|         5|        1921|      0.415| 60.936|Dennis Day_Clancy...|\n",
      "| 0.0394|1921|       0.961|KHP Kridhamardawa...|       0.328|     500062|              0.166|       0|1o6I8BglA6ylDMrIE...|           0.913|  3|   0.101|  -14.85|   1|           Gati Bali|         5|        1921|     0.0339|110.339|KHP Kridhamardawa...|\n",
      "|  0.165|1921|       0.967|        Frank Parker|       0.275|     210000|              0.309|       0|3ftBPsC5vPBKxYSee...|         2.77E-5|  5|   0.381|  -9.316|   1|           Danny Boy|         3|        1921|     0.0354|100.109|Frank Parker_Dann...|\n",
      "|  0.253|1921|       0.957|          Phil Regan|       0.418|     166693|              0.193|       0|4d6HGyGT8e121BsdK...|         1.68E-6|  3|   0.229| -10.096|   1|When Irish Eyes A...|         2|        1921|      0.038|101.665|Phil Regan_When I...|\n",
      "|  0.196|1921|       0.579|KHP Kridhamardawa...|       0.697|     395076|0.34600000000000003|       0|4pyw9DVHGStUre4J6...|           0.168|  2|    0.13| -12.506|   1|        Gati Mardika|         6|        1921|       0.07|119.824|KHP Kridhamardawa...|\n",
      "|  0.406|1921|       0.996|      John McCormack|       0.518|     159507|              0.203|       0|5uNZnElqOS3W4fRmR...|             0.0|  0|   0.115| -10.589|   1|The Wearing of th...|         4|        1921|     0.0615| 66.221|John McCormack_Th...|\n",
      "| 0.0731|1921|       0.993| Sergei Rachmaninoff|       0.389|     218773|0.08800000000000001|       0|02GDntOXexBFUvSga...|           0.527|  1|   0.363| -21.091|   0|Morceaux de fanta...|         2|        1921|     0.0456| 92.867|Sergei Rachmanino...|\n",
      "|  0.771|1921|       0.982|             Fortugé|       0.684|     196560|              0.257|       0|08zfJvRLp7pjAb94M...|             0.0|  8|   0.504| -16.415|   1|   Il Etait Syndiqué|         0|        1921|      0.399|109.378|Fortugé_Il Etait ...|\n",
      "|  0.826|1921|       0.995|   Maurice Chevalier|       0.463|     147133|               0.26|       0|0BMkRpQtDoKjcgzCp...|             0.0|  9|   0.258| -16.894|   1|Dans La Vie Faut ...|         0|        1921|     0.0557| 85.146|Maurice Chevalier...|\n",
      "|  0.493|1921|        0.99|             Georgel|       0.315|     190800|              0.363|       0|0H3k2CvJvHULnWChl...|             0.0|  5|   0.292| -12.562|   0|           La Vipère|         0|        1921|     0.0546|174.532|   Georgel_La Vipère|\n",
      "|  0.212|1921|       0.912|     Mehmet Kemiksiz|       0.415|     184973|               0.42|       0|0LcXzABeA84Egudqp...|            0.89|  8|   0.108| -10.766|   0|          Ud Taksimi|         0|        1921|      0.114| 70.758|Mehmet Kemiksiz_U...|\n",
      "|  0.282|1921|       0.989|Sergei Rachmanino...|       0.384|     221013|              0.171|       0|0NFeJgmTAV1kDfzSQ...|            0.82|  7|   0.116| -20.476|   0|10 Préludes, Op. ...|         4|        1921|     0.0319|107.698|Sergei Rachmanino...|\n",
      "|  0.218|1921|       0.957|          Phil Regan|       0.259|     186467|              0.212|       0|0Nk5f07H3JaEunGrY...|         2.22E-4|  2|   0.236|   -13.3|   1|   Come Back To Erin|         1|        1921|     0.0358| 85.726|Phil Regan_Come B...|\n",
      "|  0.664|1921|       0.996|Hector Berlioz| A...|       0.541|     250747|0.28300000000000003|       0|0POO8XaUgW5Qjbv9s...|           0.898|  9|   0.393| -14.808|   1|       Rákóczy March|         0|        1921|     0.0477|108.986|Hector Berlioz| A...|\n",
      "|  0.527|1921|       0.971|   Christopher Lynch|        0.54|     122000|             0.0848|       0|0QU5xT6Mik4vpyt1I...|         0.00196|  5|  0.0887| -16.055|   0|  A Ballynure Ballad|         0|        1921|      0.075|100.296|Christopher Lynch...|\n",
      "|  0.672|1921|       0.994|             Fortugé|        0.67|     191333|              0.113|       0|0QvUUTHYUQQhSXLwf...|             0.0| 10|   0.213|  -16.57|   0| Je Suis Toujours La|         0|        1921|      0.196| 87.162|Fortugé_Je Suis T...|\n",
      "|   0.24|1921|       0.994|John McCormack| E...|         0.4|     187333|              0.155|       0|0RPKAq5yhbom6hXQz...|         4.33E-5|  4|   0.103| -13.976|   1|      Mother Machree|         0|        1921|     0.0873|170.251|John McCormack| E...|\n",
      "|   0.41|1921|        0.97|     Mehmet Kemiksiz|       0.269|      86988|0.14300000000000002|       0|0VhIFYGSpY0Z8IAIA...|           0.469|  4|   0.166|  -9.003|   1|         Ney Taksimi|         0|        1921|     0.0413|141.386|Mehmet Kemiksiz_N...|\n",
      "| 0.0731|1921|       0.993| Sergei Rachmaninoff|       0.389|     218773|0.08800000000000001|       0|0eQsdik7GTEy7M3Uy...|           0.527|  1|   0.363| -21.091|   0|Morceaux de fanta...|         0|        1921|     0.0456| 92.867|Sergei Rachmanino...|\n",
      "+-------+----+------------+--------------------+------------+-----------+-------------------+--------+--------------------+----------------+---+--------+--------+----+--------------------+----------+------------+-----------+-------+--------------------+\n",
      "only showing top 20 rows\n",
      "\n"
     ]
    }
   ],
   "source": []
  },
  {
   "cell_type": "code",
   "execution_count": 89,
   "metadata": {},
   "outputs": [
    {
     "name": "stderr",
     "output_type": "stream",
     "text": [
      "[Stage 87:==================================================>       (7 + 1) / 8]\r"
     ]
    },
    {
     "name": "stdout",
     "output_type": "stream",
     "text": [
      "+-------+------------------+------------------+-------------------+-----------------+-------------------+------------------+-------------------+-------------------+--------------------+------------------+------------------+-------------------+-------------------+-------------------+--------------------+------------------+------------------+-------------------+------------------+--------------------+\n",
      "|summary|           valence|              year|       acousticness|          artists|       danceability|       duration_ms|             energy|           explicit|                  id|  instrumentalness|               key|           liveness|           loudness|               mode|                name|        popularity|      release_date|        speechiness|             tempo|  name_music_artists|\n",
      "+-------+------------------+------------------+-------------------+-----------------+-------------------+------------------+-------------------+-------------------+--------------------+------------------+------------------+-------------------+-------------------+-------------------+--------------------+------------------+------------------+-------------------+------------------+--------------------+\n",
      "|  count|             50018|             50018|              50018|            50018|              50018|             50018|              50018|              50018|               50018|             50018|             50018|              50018|              50018|              50018|               50018|             50018|             50018|              50018|             50018|               50018|\n",
      "|   mean| 0.503290710591016|1962.9550561797753|  0.602015762271954|541.1538461538462|  0.511366701998486|232423.72953736654|0.39305720302690983|0.06897516893918189|                null|0.2167813875054004| 5.163821024431205|0.20843303218204853|-13.799477124944573| 0.7224599144308049|            Infinity|21.447658842816587|1962.9550561797753| 0.1365460034611692| 114.2903391548528|                null|\n",
      "| stddev|0.2693177790150297|22.069954488916355|0.36183109601765673|525.4849896609554|0.17885514822382156|141701.85607303065|0.26268422900894756| 0.2534144410335808|                null|0.3490171388866672|3.5194121215828766| 0.1724211924263582|  6.002729620386878|0.44778967757213095|                 NaN| 18.97952248724671|22.069954488916355|0.24973693441819897|30.799844565318345|                null|\n",
      "|    min|               0.0|              1921|                0.0|       (Hed) P.E.|                0.0|            100000|                0.0|                  0|000mGrJNc2GAgQdME...|               0.0|                 0|                0.0|              -60.0|                  0|\"\"\"Eungenio\"\" Sal...|                 0|              1921|                0.0|               0.0|(Hed) P.E._Bartender|\n",
      "|    25%|             0.278|              1946|              0.243|            112.0|              0.379|          156000.0|              0.179|                0.0|                null|           1.01E-6|               2.0|                0.1|            -17.576|                0.0|               409.0|               1.0|            1946.0|             0.0354|            90.429|                null|\n",
      "|    50%|             0.514|              1961|               0.73|            112.0|              0.523|          198713.0|              0.331|                0.0|                null|           6.24E-4|               5.0|               0.14|            -13.116|                1.0|              1959.0|              21.0|            1961.0|             0.0442|           111.019|                null|\n",
      "|    75%|             0.723|              1980|              0.944|            999.0|              0.653|          268840.0| 0.5820000000000001|                0.0|                null|             0.381|               8.0|              0.266|             -9.379|                1.0|              1985.0|              36.0|            1980.0|             0.0717|           133.033|                null|\n",
      "|    max|               1.0|              2017|              0.996|           陳蘭麗|              0.977|             99996|                1.0|                  1|7zzbfi8fvHe6hm342...|             0.996|                 9|              0.999|              0.674|                  1|              黄昏れ|                 9|              2017|               0.97|           243.372|     陳蘭麗_你懂不懂|\n",
      "+-------+------------------+------------------+-------------------+-----------------+-------------------+------------------+-------------------+-------------------+--------------------+------------------+------------------+-------------------+-------------------+-------------------+--------------------+------------------+------------------+-------------------+------------------+--------------------+\n",
      "\n"
     ]
    },
    {
     "name": "stderr",
     "output_type": "stream",
     "text": [
      "                                                                                \r"
     ]
    }
   ],
   "source": []
  },
  {
   "cell_type": "code",
   "execution_count": 90,
   "metadata": {},
   "outputs": [
    {
     "data": {
      "text/plain": [
       "['valence',\n",
       " 'year',\n",
       " 'acousticness',\n",
       " 'danceability',\n",
       " 'duration_ms',\n",
       " 'energy',\n",
       " 'instrumentalness',\n",
       " 'key',\n",
       " 'liveness',\n",
       " 'loudness',\n",
       " 'mode',\n",
       " 'popularity',\n",
       " 'release_date',\n",
       " 'speechiness',\n",
       " 'tempo']"
      ]
     },
     "execution_count": 90,
     "metadata": {},
     "output_type": "execute_result"
    }
   ],
   "source": []
  }
 ],
 "metadata": {
  "kernelspec": {
   "display_name": ".venv",
   "language": "python",
   "name": "python3"
  },
  "language_info": {
   "codemirror_mode": {
    "name": "ipython",
    "version": 3
   },
   "file_extension": ".py",
   "mimetype": "text/x-python",
   "name": "python",
   "nbconvert_exporter": "python",
   "pygments_lexer": "ipython3",
   "version": "3.8.10"
  }
 },
 "nbformat": 4,
 "nbformat_minor": 2
}
